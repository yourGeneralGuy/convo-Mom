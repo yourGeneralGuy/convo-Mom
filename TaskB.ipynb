{
 "cells": [
  {
   "cell_type": "markdown",
   "metadata": {},
   "source": [
    "# Task B - Running the sentiment analysis"
   ]
  },
  {
   "cell_type": "code",
   "execution_count": 1,
   "metadata": {},
   "outputs": [],
   "source": [
    "# Libraries\n",
    "\n",
    "    # Data preprocessing & manipulation\n",
    "import pandas as pd\n",
    "import numpy as np\n",
    "import matplotlib.pyplot as plt\n",
    "\n",
    "    # Text analysis\n",
    "import string\n",
    "from nltk.corpus import stopwords\n",
    "from nltk import FreqDist\n",
    "from vaderSentiment.vaderSentiment import SentimentIntensityAnalyzer\n",
    "\n",
    "    # Function library\n",
    "import ReferenceArchitecture as rf"
   ]
  },
  {
   "cell_type": "markdown",
   "metadata": {},
   "source": [
    "## Frequency Distributions"
   ]
  },
  {
   "cell_type": "code",
   "execution_count": null,
   "metadata": {},
   "outputs": [],
   "source": [
    "df_exchange = pd.read_csv(\"CSV\")"
   ]
  },
  {
   "cell_type": "code",
   "execution_count": null,
   "metadata": {},
   "outputs": [],
   "source": [
    "convo = 'Bot'\n",
    "resp = 'User'\n",
    "time = 'Timestamp'"
   ]
  },
  {
   "cell_type": "code",
   "execution_count": null,
   "metadata": {},
   "outputs": [],
   "source": [
    "def punctuation_extermination(s):\n",
    "    o = str.maketrans('', '', string.punctuation)\n",
    "    return str(s).translate(o)\n",
    "\n",
    "# Removing punctation from comments\n",
    "df_exchange[convo] = df_exchange[convo].apply(punctuation_extermination)\n",
    "df_exchange[resp] = df_exchange[resp].apply(punctuation_extermination)"
   ]
  },
  {
   "cell_type": "code",
   "execution_count": null,
   "metadata": {},
   "outputs": [],
   "source": [
    "# Build a corpus\n",
    "corpus_convo = rf.build_corpus(df_exchange[convo])\n",
    "corpus_resp = rf.build_corpus(df_exchange[resp])\n",
    "\n",
    "# Converting all the words into lowercase and creating a no stopword corpus\n",
    "def process_corpus(corpus):\n",
    "    corpus_lower = corpus.lower()\n",
    "    corpus_split = corpus_lower.split()\n",
    "    corpus_noStop = [word for word in corpus if word not in stopwords.words(\"english\")]\n",
    "    return corpus_lower, corpus_noStop\n",
    "\n",
    "convo_lower, convo_noStop = process_corpus(corpus_convo)\n",
    "resp_lower, resp_noStop = process_corpus(corpus_resp)"
   ]
  },
  {
   "cell_type": "code",
   "execution_count": null,
   "metadata": {},
   "outputs": [],
   "source": [
    "rf.plot_word_frequency(convo_noStop, corpus_name='Bot\\'s Word')"
   ]
  },
  {
   "cell_type": "code",
   "execution_count": null,
   "metadata": {},
   "outputs": [],
   "source": [
    "rf.plot_word_frequency(resp_noStop, corpus_name='User Response')"
   ]
  },
  {
   "cell_type": "markdown",
   "metadata": {},
   "source": [
    "## Sentiment Analysis"
   ]
  },
  {
   "cell_type": "code",
   "execution_count": null,
   "metadata": {},
   "outputs": [],
   "source": [
    "df_convo_sentiments, convo_senti_neg, convo_senti_neu, convo_senti_pos, convo_senti_comp = rf.sentimentDialogue(convo_lower)\n",
    "df_resp_sentiments, resp_senti_neg, resp_senti_neu, resp_senti_pos, resp_senti_comp = rf.sentimentDialogue(resp_lower)"
   ]
  },
  {
   "cell_type": "code",
   "execution_count": null,
   "metadata": {},
   "outputs": [],
   "source": [
    "rf.plot_sentiments(df_convo_sentiments)"
   ]
  },
  {
   "cell_type": "code",
   "execution_count": null,
   "metadata": {},
   "outputs": [],
   "source": [
    "rf.plot_sentiments(df_resp_sentiments)"
   ]
  },
  {
   "cell_type": "code",
   "execution_count": 1,
   "metadata": {},
   "outputs": [
    {
     "ename": "NameError",
     "evalue": "name 'pd' is not defined",
     "output_type": "error",
     "traceback": [
      "\u001b[0;31m---------------------------------------------------------------------------\u001b[0m",
      "\u001b[0;31mNameError\u001b[0m                                 Traceback (most recent call last)",
      "\u001b[1;32m/Users/samuel/Coding/02-Visual Studio/01-MIS 385N UDA/final_project/convo-Mom/TaskB.ipynb Cell 14\u001b[0m in \u001b[0;36m<cell line: 1>\u001b[0;34m()\u001b[0m\n\u001b[0;32m----> <a href='vscode-notebook-cell:/Users/samuel/Coding/02-Visual%20Studio/01-MIS%20385N%20UDA/final_project/convo-Mom/TaskB.ipynb#ch0000013?line=0'>1</a>\u001b[0m \u001b[39mdef\u001b[39;00m \u001b[39mplot_sentiment_difference\u001b[39m(convo_sentiments : pd\u001b[39m.\u001b[39mDataFrame, resp_sentiments : pd\u001b[39m.\u001b[39mDataFrame):\n\u001b[1;32m      <a href='vscode-notebook-cell:/Users/samuel/Coding/02-Visual%20Studio/01-MIS%20385N%20UDA/final_project/convo-Mom/TaskB.ipynb#ch0000013?line=1'>2</a>\u001b[0m     diff_senti \u001b[39m=\u001b[39m convo_sentiments \u001b[39m-\u001b[39m resp_sentiments\n\u001b[1;32m      <a href='vscode-notebook-cell:/Users/samuel/Coding/02-Visual%20Studio/01-MIS%20385N%20UDA/final_project/convo-Mom/TaskB.ipynb#ch0000013?line=2'>3</a>\u001b[0m     t \u001b[39m=\u001b[39m diff_senti\u001b[39m.\u001b[39mshape(\u001b[39m0\u001b[39m)\n",
      "\u001b[0;31mNameError\u001b[0m: name 'pd' is not defined"
     ]
    }
   ],
   "source": [
    "def plot_sentiment_difference(convo_sentiments : pd.DataFrame, resp_sentiments : pd.DataFrame, time = None):\n",
    "    diff_senti = convo_sentiments - resp_sentiments\n",
    "    if time is None:\n",
    "        time = np.arange(1, diff_senti.shape(0)+1)\n",
    "    labels = diff_senti.columns\n",
    "    counts = []\n",
    "    \n",
    "    # for i in diff_senti.columns:\n",
    "    #     avg = np.average(diff_senti[i])\n",
    "    #     counts.append(avg)\n",
    "    fig = plt.figure(figsize=(10, 8))\n",
    "    ax = plt.axes()\n",
    "    plt.plot()\n"
   ]
  }
 ],
 "metadata": {
  "kernelspec": {
   "display_name": "Python 3.10.1 64-bit",
   "language": "python",
   "name": "python3"
  },
  "language_info": {
   "codemirror_mode": {
    "name": "ipython",
    "version": 3
   },
   "file_extension": ".py",
   "mimetype": "text/x-python",
   "name": "python",
   "nbconvert_exporter": "python",
   "pygments_lexer": "ipython3",
   "version": "3.10.1"
  },
  "orig_nbformat": 4,
  "vscode": {
   "interpreter": {
    "hash": "aee8b7b246df8f9039afb4144a1f6fd8d2ca17a180786b69acc140d282b71a49"
   }
  }
 },
 "nbformat": 4,
 "nbformat_minor": 2
}
