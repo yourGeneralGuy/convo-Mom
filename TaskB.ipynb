{
 "cells": [
  {
   "cell_type": "markdown",
   "metadata": {},
   "source": [
    "# Task B - Running the sentiment analysis"
   ]
  },
  {
   "cell_type": "code",
   "execution_count": 1,
   "metadata": {},
   "outputs": [],
   "source": [
    "# Libraries\n",
    "\n",
    "    # Data preprocessing & manipulation\n",
    "import pandas as pd\n",
    "import numpy as np\n",
    "import matplotlib.pyplot as plt\n",
    "\n",
    "    # Text analysis\n",
    "import string\n",
    "from nltk.corpus import stopwords\n",
    "from nltk import FreqDist\n",
    "from vaderSentiment.vaderSentiment import SentimentIntensityAnalyzer\n",
    "\n",
    "    # Function library\n",
    "import ReferenceArchitecture as rf"
   ]
  },
  {
   "cell_type": "markdown",
   "metadata": {},
   "source": [
    "## Frequency Distributions"
   ]
  },
  {
   "cell_type": "code",
   "execution_count": null,
   "metadata": {},
   "outputs": [],
   "source": [
    "df_posts = pd.read_csv(\"CSV\")"
   ]
  },
  {
   "cell_type": "code",
   "execution_count": null,
   "metadata": {},
   "outputs": [],
   "source": [
    "def punctuation_extermination(s):\n",
    "    o = str.maketrans('', '', string.punctuation)\n",
    "    return str(s).translate(o)\n",
    "\n",
    "# Removing punctation from comments\n",
    "df_posts['Body'] = df_posts['Body'].apply(punctuation_extermination)"
   ]
  },
  {
   "cell_type": "code",
   "execution_count": null,
   "metadata": {},
   "outputs": [],
   "source": [
    "# Build a corpus\n",
    "corpus = rf.build_corpus(df_posts[\"Body\"])\n",
    "\n",
    "# Converting all the words into lowercase and creating a no stopword corpus\n",
    "corpus_lower = corpus.lower()\n",
    "corpus_split = corpus_lower.split()\n",
    "corpus_noStop = [word for word in corpus if word not in stopwords.words(\"english\")]"
   ]
  },
  {
   "cell_type": "code",
   "execution_count": null,
   "metadata": {},
   "outputs": [],
   "source": [
    "rf.plot_word_frequency(corpus_noStop, corpus_name='Corpus')"
   ]
  },
  {
   "cell_type": "markdown",
   "metadata": {},
   "source": [
    "## Sentiment Analysis"
   ]
  },
  {
   "cell_type": "code",
   "execution_count": null,
   "metadata": {},
   "outputs": [],
   "source": [
    "# Sentiment on each post\n",
    "\n",
    "analyzer = SentimentIntensityAnalyzer()\n",
    "headers = [\"Post\", \"Negative\", \"Neutral\", \"Positive\", \"Compound\"]\n",
    "posts_sentiments = np.array([headers])\n",
    "for post in df_posts['Body'].apply(lambda x: x.lower()):\n",
    "    vs = analyzer.polarity_scores(post)\n",
    "    senti = np.array([\n",
    "        post,\n",
    "        vs['neg'],\n",
    "        vs['neu'],\n",
    "        vs['pos'],\n",
    "        vs['compound']\n",
    "    ])\n",
    "    posts_sentiments = np.row_stack((posts_sentiments, senti))\n",
    "posts_sentiments = pd.DataFrame(data=posts_sentiments, columns=headers)\n",
    "posts_sentiments.drop(axis=0, index=0, inplace=True)"
   ]
  },
  {
   "cell_type": "code",
   "execution_count": null,
   "metadata": {},
   "outputs": [],
   "source": [
    "posts_sentiments"
   ]
  },
  {
   "cell_type": "code",
   "execution_count": null,
   "metadata": {},
   "outputs": [],
   "source": [
    "# Visuallying the sentiments\n"
   ]
  }
 ],
 "metadata": {
  "kernelspec": {
   "display_name": "Python 3.10.1 64-bit",
   "language": "python",
   "name": "python3"
  },
  "language_info": {
   "codemirror_mode": {
    "name": "ipython",
    "version": 3
   },
   "file_extension": ".py",
   "mimetype": "text/x-python",
   "name": "python",
   "nbconvert_exporter": "python",
   "pygments_lexer": "ipython3",
   "version": "3.10.1"
  },
  "orig_nbformat": 4,
  "vscode": {
   "interpreter": {
    "hash": "aee8b7b246df8f9039afb4144a1f6fd8d2ca17a180786b69acc140d282b71a49"
   }
  }
 },
 "nbformat": 4,
 "nbformat_minor": 2
}
