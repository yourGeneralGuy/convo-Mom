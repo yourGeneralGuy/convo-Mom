{
 "cells": [
  {
   "cell_type": "markdown",
   "metadata": {},
   "source": [
    "# Task B - Running the sentiment analysis"
   ]
  },
  {
   "cell_type": "code",
   "execution_count": 1,
   "metadata": {},
   "outputs": [],
   "source": [
    "# Libraries\n",
    "\n",
    "    # Data preprocessing & manipulation\n",
    "import pandas as pd\n",
    "import numpy as np\n",
    "import matplotlib.pyplot as plt\n",
    "\n",
    "    # Text analysis\n",
    "import string\n",
    "from nltk.corpus import stopwords\n",
    "from nltk import FreqDist\n",
    "from vaderSentiment.vaderSentiment import SentimentIntensityAnalyzer\n",
    "\n",
    "    # Function library\n",
    "import ReferenceArchitecture as rf"
   ]
  },
  {
   "cell_type": "markdown",
   "metadata": {},
   "source": [
    "## Frequency Distributions"
   ]
  },
  {
   "cell_type": "code",
   "execution_count": null,
   "metadata": {},
   "outputs": [],
   "source": [
    "df_exchange = pd.read_csv(\"CSV\")"
   ]
  },
  {
   "cell_type": "code",
   "execution_count": null,
   "metadata": {},
   "outputs": [],
   "source": [
    "convo = 'bot exchange'\n",
    "resp = 'response'"
   ]
  },
  {
   "cell_type": "code",
   "execution_count": null,
   "metadata": {},
   "outputs": [],
   "source": [
    "def punctuation_extermination(s):\n",
    "    o = str.maketrans('', '', string.punctuation)\n",
    "    return str(s).translate(o)\n",
    "\n",
    "# Removing punctation from comments\n",
    "df_exchange[convo] = df_exchange[convo].apply(punctuation_extermination)\n",
    "df_exchange[resp] = df_exchange[resp].apply(punctuation_extermination)"
   ]
  },
  {
   "cell_type": "code",
   "execution_count": null,
   "metadata": {},
   "outputs": [],
   "source": [
    "# Build a corpus\n",
    "corpus_convo = rf.build_corpus(df_exchange[convo])\n",
    "corpus_resp = rf.build_corpus(df_exchange[resp])\n",
    "\n",
    "# Converting all the words into lowercase and creating a no stopword corpus\n",
    "def process_corpus(corpus):\n",
    "    corpus_lower = corpus.lower()\n",
    "    corpus_split = corpus_lower.split()\n",
    "    corpus_noStop = [word for word in corpus if word not in stopwords.words(\"english\")]\n",
    "    return corpus_lower, corpus_noStop\n",
    "\n",
    "convo_lower, convo_noStop = process_corpus(corpus_convo)\n",
    "resp_lower, resp_noStop = process_corpus(corpus_resp)"
   ]
  },
  {
   "cell_type": "code",
   "execution_count": null,
   "metadata": {},
   "outputs": [],
   "source": [
    "rf.plot_word_frequency(convo_noStop, corpus_name='Bot\\'s Word')"
   ]
  },
  {
   "cell_type": "code",
   "execution_count": null,
   "metadata": {},
   "outputs": [],
   "source": [
    "rf.plot_word_frequency(resp_noStop, corpus_name='User Response')"
   ]
  },
  {
   "cell_type": "markdown",
   "metadata": {},
   "source": [
    "## Sentiment Analysis"
   ]
  },
  {
   "cell_type": "code",
   "execution_count": null,
   "metadata": {},
   "outputs": [],
   "source": [
    "df_convo_sentiments, convo_senti_neg, convo_senti_neu, convo_senti_pos, convo_senti_comp = rf.sentimentDialogue(convo_lower)\n",
    "df_resp_sentiments, resp_senti_neg, resp_senti_neu, resp_senti_pos, resp_senti_comp = rf.sentimentDialogue(resp_lower)"
   ]
  },
  {
   "cell_type": "code",
   "execution_count": null,
   "metadata": {},
   "outputs": [],
   "source": [
    "rf.plot_sentiments(df_convo_sentiments)"
   ]
  },
  {
   "cell_type": "code",
   "execution_count": null,
   "metadata": {},
   "outputs": [],
   "source": [
    "rf.plot_sentiments(df_resp_sentiments)"
   ]
  },
  {
   "cell_type": "code",
   "execution_count": null,
   "metadata": {},
   "outputs": [],
   "source": []
  }
 ],
 "metadata": {
  "kernelspec": {
   "display_name": "Python 3.10.1 64-bit",
   "language": "python",
   "name": "python3"
  },
  "language_info": {
   "codemirror_mode": {
    "name": "ipython",
    "version": 3
   },
   "file_extension": ".py",
   "mimetype": "text/x-python",
   "name": "python",
   "nbconvert_exporter": "python",
   "pygments_lexer": "ipython3",
   "version": "3.10.1"
  },
  "orig_nbformat": 4,
  "vscode": {
   "interpreter": {
    "hash": "aee8b7b246df8f9039afb4144a1f6fd8d2ca17a180786b69acc140d282b71a49"
   }
  }
 },
 "nbformat": 4,
 "nbformat_minor": 2
}
