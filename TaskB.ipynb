{
 "cells": [
  {
   "cell_type": "markdown",
   "metadata": {},
   "source": [
    "# Task B - Running the sentiment analysis"
   ]
  },
  {
   "cell_type": "code",
   "execution_count": 3,
   "metadata": {},
   "outputs": [
    {
     "ename": "AttributeError",
     "evalue": "module 'pandas' has no attribute 'Dataframe'",
     "output_type": "error",
     "traceback": [
      "\u001b[0;31m---------------------------------------------------------------------------\u001b[0m",
      "\u001b[0;31mAttributeError\u001b[0m                            Traceback (most recent call last)",
      "\u001b[1;32m/Users/samuel/Coding/02-Visual Studio/01-MIS 385N UDA/final_project/convo-Mom/TaskB.ipynb Cell 2\u001b[0m in \u001b[0;36m<cell line: 15>\u001b[0;34m()\u001b[0m\n\u001b[1;32m     <a href='vscode-notebook-cell:/Users/samuel/Coding/02-Visual%20Studio/01-MIS%20385N%20UDA/final_project/convo-Mom/TaskB.ipynb#ch0000001?line=11'>12</a>\u001b[0m \u001b[39mfrom\u001b[39;00m \u001b[39mvaderSentiment\u001b[39;00m\u001b[39m.\u001b[39;00m\u001b[39mvaderSentiment\u001b[39;00m \u001b[39mimport\u001b[39;00m SentimentIntensityAnalyzer\n\u001b[1;32m     <a href='vscode-notebook-cell:/Users/samuel/Coding/02-Visual%20Studio/01-MIS%20385N%20UDA/final_project/convo-Mom/TaskB.ipynb#ch0000001?line=13'>14</a>\u001b[0m     \u001b[39m# Function library\u001b[39;00m\n\u001b[0;32m---> <a href='vscode-notebook-cell:/Users/samuel/Coding/02-Visual%20Studio/01-MIS%20385N%20UDA/final_project/convo-Mom/TaskB.ipynb#ch0000001?line=14'>15</a>\u001b[0m \u001b[39mimport\u001b[39;00m \u001b[39mReferenceArchitecture\u001b[39;00m \u001b[39mas\u001b[39;00m \u001b[39mrf\u001b[39;00m\n",
      "File \u001b[0;32m~/Coding/02-Visual Studio/01-MIS 385N UDA/final_project/convo-Mom/ReferenceArchitecture.py:198\u001b[0m, in \u001b[0;36m<module>\u001b[0;34m\u001b[0m\n\u001b[1;32m    194\u001b[0m     \u001b[39mreturn\u001b[39;00m posts_sentiments, avg_neg, avg_neu, avg_pos, avg_comp\n\u001b[1;32m    196\u001b[0m \u001b[39m\"\"\"_summary_\u001b[39;00m\n\u001b[1;32m    197\u001b[0m \u001b[39m\"\"\"\u001b[39;00m\n\u001b[0;32m--> 198\u001b[0m \u001b[39mdef\u001b[39;00m \u001b[39mplot_sentiments\u001b[39m(posts_sentiments : pd\u001b[39m.\u001b[39;49mDataframe):\n\u001b[1;32m    199\u001b[0m     \u001b[39m# Visuallying the sentiments\u001b[39;00m\n\u001b[1;32m    200\u001b[0m         \u001b[39m# Reformatting for clarity\u001b[39;00m\n\u001b[1;32m    201\u001b[0m     neg \u001b[39m=\u001b[39m posts_sentiments[\u001b[39m'\u001b[39m\u001b[39mNegative\u001b[39m\u001b[39m'\u001b[39m]\n\u001b[1;32m    202\u001b[0m     neu \u001b[39m=\u001b[39m posts_sentiments[\u001b[39m'\u001b[39m\u001b[39mNeutral\u001b[39m\u001b[39m'\u001b[39m]\n",
      "File \u001b[0;32m/Library/Frameworks/Python.framework/Versions/3.10/lib/python3.10/site-packages/pandas/__init__.py:261\u001b[0m, in \u001b[0;36m__getattr__\u001b[0;34m(name)\u001b[0m\n\u001b[1;32m    257\u001b[0m     \u001b[39mfrom\u001b[39;00m \u001b[39mpandas\u001b[39;00m\u001b[39m.\u001b[39;00m\u001b[39mcore\u001b[39;00m\u001b[39m.\u001b[39;00m\u001b[39marrays\u001b[39;00m\u001b[39m.\u001b[39;00m\u001b[39msparse\u001b[39;00m \u001b[39mimport\u001b[39;00m SparseArray \u001b[39mas\u001b[39;00m _SparseArray\n\u001b[1;32m    259\u001b[0m     \u001b[39mreturn\u001b[39;00m _SparseArray\n\u001b[0;32m--> 261\u001b[0m \u001b[39mraise\u001b[39;00m \u001b[39mAttributeError\u001b[39;00m(\u001b[39mf\u001b[39m\u001b[39m\"\u001b[39m\u001b[39mmodule \u001b[39m\u001b[39m'\u001b[39m\u001b[39mpandas\u001b[39m\u001b[39m'\u001b[39m\u001b[39m has no attribute \u001b[39m\u001b[39m'\u001b[39m\u001b[39m{\u001b[39;00mname\u001b[39m}\u001b[39;00m\u001b[39m'\u001b[39m\u001b[39m\"\u001b[39m)\n",
      "\u001b[0;31mAttributeError\u001b[0m: module 'pandas' has no attribute 'Dataframe'"
     ]
    }
   ],
   "source": [
    "# Libraries\n",
    "\n",
    "    # Data preprocessing & manipulation\n",
    "import pandas as pd\n",
    "import numpy as np\n",
    "import matplotlib.pyplot as plt\n",
    "\n",
    "    # Text analysis\n",
    "import string\n",
    "from nltk.corpus import stopwords\n",
    "from nltk import FreqDist\n",
    "from vaderSentiment.vaderSentiment import SentimentIntensityAnalyzer\n",
    "\n",
    "    # Function library\n",
    "import ReferenceArchitecture as rf"
   ]
  },
  {
   "cell_type": "markdown",
   "metadata": {},
   "source": [
    "## Frequency Distributions"
   ]
  },
  {
   "cell_type": "code",
   "execution_count": null,
   "metadata": {},
   "outputs": [],
   "source": [
    "df_exchange = pd.read_csv(\"convdata/ConversationData3.csv\")"
   ]
  },
  {
   "cell_type": "code",
   "execution_count": null,
   "metadata": {},
   "outputs": [],
   "source": [
    "convo = 'Bot'\n",
    "resp = 'User'\n",
    "time = 'Timestamp'"
   ]
  },
  {
   "cell_type": "code",
   "execution_count": null,
   "metadata": {},
   "outputs": [],
   "source": [
    "def punctuation_extermination(s):\n",
    "    o = str.maketrans('', '', string.punctuation)\n",
    "    return str(s).translate(o)\n",
    "\n",
    "# Removing punctation from comments\n",
    "df_exchange[convo] = df_exchange[convo].apply(punctuation_extermination)\n",
    "df_exchange[resp] = df_exchange[resp].apply(punctuation_extermination)"
   ]
  },
  {
   "cell_type": "code",
   "execution_count": null,
   "metadata": {},
   "outputs": [],
   "source": [
    "# Build a corpus\n",
    "corpus_convo = rf.build_corpus(df_exchange[convo])\n",
    "corpus_resp = rf.build_corpus(df_exchange[resp])\n",
    "\n",
    "# Converting all the words into lowercase and creating a no stopword corpus\n",
    "def process_corpus(corpus):\n",
    "    corpus_lower = corpus.lower()\n",
    "    corpus_split = corpus_lower.split()\n",
    "    corpus_noStop = [word for word in corpus if word not in stopwords.words(\"english\")]\n",
    "    return corpus_lower, corpus_noStop\n",
    "\n",
    "convo_lower, convo_noStop = process_corpus(corpus_convo)\n",
    "resp_lower, resp_noStop = process_corpus(corpus_resp)"
   ]
  },
  {
   "cell_type": "code",
   "execution_count": null,
   "metadata": {},
   "outputs": [],
   "source": [
    "rf.plot_word_frequency(convo_noStop, corpus_name='Bot\\'s Word')"
   ]
  },
  {
   "cell_type": "code",
   "execution_count": null,
   "metadata": {},
   "outputs": [],
   "source": [
    "rf.plot_word_frequency(resp_noStop, corpus_name='User Response')"
   ]
  },
  {
   "cell_type": "markdown",
   "metadata": {},
   "source": [
    "## Sentiment Analysis"
   ]
  },
  {
   "cell_type": "code",
   "execution_count": null,
   "metadata": {},
   "outputs": [],
   "source": [
    "df_convo_sentiments, convo_senti_neg, convo_senti_neu, convo_senti_pos, convo_senti_comp = rf.sentimentDialogue(convo_lower)\n",
    "df_resp_sentiments, resp_senti_neg, resp_senti_neu, resp_senti_pos, resp_senti_comp = rf.sentimentDialogue(resp_lower)"
   ]
  },
  {
   "cell_type": "code",
   "execution_count": null,
   "metadata": {},
   "outputs": [],
   "source": [
    "rf.plot_sentiments(df_convo_sentiments)"
   ]
  },
  {
   "cell_type": "code",
   "execution_count": null,
   "metadata": {},
   "outputs": [],
   "source": [
    "rf.plot_sentiments(df_resp_sentiments)"
   ]
  },
  {
   "cell_type": "code",
   "execution_count": 1,
   "metadata": {},
   "outputs": [
    {
     "ename": "NameError",
     "evalue": "name 'pd' is not defined",
     "output_type": "error",
     "traceback": [
      "\u001b[0;31m---------------------------------------------------------------------------\u001b[0m",
      "\u001b[0;31mNameError\u001b[0m                                 Traceback (most recent call last)",
      "\u001b[1;32m/Users/samuel/Coding/02-Visual Studio/01-MIS 385N UDA/final_project/convo-Mom/TaskB.ipynb Cell 14\u001b[0m in \u001b[0;36m<cell line: 1>\u001b[0;34m()\u001b[0m\n\u001b[0;32m----> <a href='vscode-notebook-cell:/Users/samuel/Coding/02-Visual%20Studio/01-MIS%20385N%20UDA/final_project/convo-Mom/TaskB.ipynb#ch0000013?line=0'>1</a>\u001b[0m \u001b[39mdef\u001b[39;00m \u001b[39mplot_sentiment_difference\u001b[39m(convo_sentiments : pd\u001b[39m.\u001b[39mDataFrame, resp_sentiments : pd\u001b[39m.\u001b[39mDataFrame):\n\u001b[1;32m      <a href='vscode-notebook-cell:/Users/samuel/Coding/02-Visual%20Studio/01-MIS%20385N%20UDA/final_project/convo-Mom/TaskB.ipynb#ch0000013?line=1'>2</a>\u001b[0m     diff_senti \u001b[39m=\u001b[39m convo_sentiments \u001b[39m-\u001b[39m resp_sentiments\n\u001b[1;32m      <a href='vscode-notebook-cell:/Users/samuel/Coding/02-Visual%20Studio/01-MIS%20385N%20UDA/final_project/convo-Mom/TaskB.ipynb#ch0000013?line=2'>3</a>\u001b[0m     t \u001b[39m=\u001b[39m diff_senti\u001b[39m.\u001b[39mshape(\u001b[39m0\u001b[39m)\n",
      "\u001b[0;31mNameError\u001b[0m: name 'pd' is not defined"
     ]
    }
   ],
   "source": [
    "def plot_sentiment_difference(convo_sentiments : pd.DataFrame, resp_sentiments : pd.DataFrame, time = None):\n",
    "    diff_senti = convo_sentiments - resp_sentiments\n",
    "    if time is None:\n",
    "        time = np.arange(1, diff_senti.shape(0)+1)\n",
    "    labels = diff_senti.columns\n",
    "    counts = []\n",
    "    \n",
    "    # for i in diff_senti.columns:\n",
    "    #     avg = np.average(diff_senti[i])\n",
    "    #     counts.append(avg)\n",
    "    fig = plt.figure(figsize=(10, 8))\n",
    "    ax = plt.axes()\n",
    "    plt.plot()\n",
    "\n",
    "def conversation_score(convo_sentiments : pd.DataFrame, resp_sentiments : pd.DataFrame):\n",
    "    convo_senti = []\n",
    "    resp_senti = []\n",
    "    for col in convo_sentiments.columns:\n",
    "        convo_senti.append(np.average(convo_sentiments[col]))\n",
    "    for col in resp_sentiments.columns:\n",
    "        resp_senti.append(np.average(resp_sentiments[col]))\n",
    "    convo_senti = np.array(convo_senti)\n",
    "    resp_senti = np.array(resp_senti)\n",
    "    diff = np.subtract(convo_senti, resp_senti)\n",
    "    return diff"
   ]
  }
 ],
 "metadata": {
  "kernelspec": {
   "display_name": "Python 3.10.1 64-bit",
   "language": "python",
   "name": "python3"
  },
  "language_info": {
   "codemirror_mode": {
    "name": "ipython",
    "version": 3
   },
   "file_extension": ".py",
   "mimetype": "text/x-python",
   "name": "python",
   "nbconvert_exporter": "python",
   "pygments_lexer": "ipython3",
   "version": "3.10.1"
  },
  "orig_nbformat": 4,
  "vscode": {
   "interpreter": {
    "hash": "aee8b7b246df8f9039afb4144a1f6fd8d2ca17a180786b69acc140d282b71a49"
   }
  }
 },
 "nbformat": 4,
 "nbformat_minor": 2
}
